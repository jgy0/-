{
 "cells": [
  {
   "cell_type": "code",
   "execution_count": 13,
   "id": "80af8944-1dcf-4db1-ac3c-c48b01f190e0",
   "metadata": {},
   "outputs": [
    {
     "name": "stdout",
     "output_type": "stream",
     "text": [
      "{'model': <function xception_model at 0x7f19d89c91f0>, 'lr': 0.0001, 'backbone_lr': 0.0001, 'bs': 24, 'channel': 3, 'name': 'xception', 'thres': [0.3, 0.3, 0.3, 0.3, 0.3, 0.3, 0.3, 0.3, 0.3, 0.3, 0.3, 0.3, 0.3, 0.3, 0.3, 0.3, 0.3, 0.3, 0.3, 0.3, 0.3, 0.3, 0.3, 0.3, 0.3, 0.3, 0.3, 0.3]}\n"
     ]
    }
   ],
   "source": [
    "# -*- coding:utf-8 -*-\n",
    "import argparse\n",
    "import numpy as np\n",
    "import torch.cuda\n",
    "from sklearn.model_selection import KFold\n",
    "from sklearn.metrics import f1_score\n",
    "from glob import glob\n",
    "from model import *\n",
    "from utils import *\n",
    "import pandas as pd\n",
    "import os\n",
    "from torch.utils.data import DataLoader\n",
    "import argparse\n",
    "import torch, gc\n",
    "\n",
    "gc.collect()\n",
    "torch.cuda.empty_cache()\n",
    "result_dir='./sample_submission.csv'\n",
    "data_dir='./test'\n",
    "def get_predict_npy(cfg):\n",
    "    dataset = pd.read_csv(result_dir,dtype={'Predicted':str})\n",
    "\n",
    "    print(cfg)\n",
    "\n",
    "    test = dataset.copy()\n",
    "    test.columns = ['Id','Target']\n",
    "    test['Id'] = data_dir +\"/\"+ test['Id']\n",
    "    test['suffix'] = '.png'\n",
    "    gen1 = HumanDataset(test)\n",
    "    dataloader1 = DataLoader(gen1, batch_size=cfg['bs'], shuffle=False) # pin_memory=True,\n",
    "\n",
    "\n",
    "    model= cfg['model'](cfg)\n",
    "    if torch.cuda.is_available():\n",
    "        model=model.cuda()\n",
    "\n",
    "    result = []\n",
    "    fold=1\n",
    "    model.load_state_dict(torch.load(f\"./weights/{cfg['name']}_fold{fold}.pkl\"))\n",
    "    _, pred1 = predict(model, dataloader1)\n",
    "    result.append(pred1)\n",
    "    result = np.average(result,axis=0)\n",
    "    np.save(f\"{cfg['name']}submit\",result)\n",
    "\n",
    "def main(cfg):\n",
    "    dataset = pd.read_csv( './sample_submission.csv', dtype={'Predicted': str})\n",
    "    result = np.load(f\"{cfg['name']}submit.npy\")\n",
    "\n",
    "    target = []\n",
    "    for sample_pred in result:\n",
    "        pred = []\n",
    "        for i,score in enumerate(sample_pred):\n",
    "            if score > cfg['thres'][i]:\n",
    "                pred.append(str(i))\n",
    "        if len(pred) == 0:\n",
    "            pred.append(str(sample_pred.argmax()))\n",
    "        target.append(' '.join(pred))\n",
    "\n",
    "    dataset['Predicted'] = target\n",
    "    dataset.to_csv('submit.csv',index=False)\n",
    "\n",
    "# os.path.join(data_dir,'00008af0-bad0-11e8-b2b8-ac1f6b6435d0')\n",
    "# dataset = pd.read_csv(result_dir+r'\\sample_submission.csv',dtype={'Predicted':str})\n",
    "# test = dataset.copy()\n",
    "# test.columns = ['Id','Target']\n",
    "# test['Id'] =data_dir +\"\\\\\"+ test['Id']\n",
    "\n",
    "\n",
    "if __name__ == '__main__':\n",
    "    parser = argparse.ArgumentParser(description='Process some integers.')\n",
    "    # parser.add_argument('--fold', type=str, required=True)\n",
    "    # parser.add_argument('--name', type=str, required=True)\n",
    "    # parser.add_argument('--device', type=str, required=True)\n",
    "    parser.add_argument('-f', type=str, default=\"读取额外的参数\")\n",
    "    args = parser.parse_args()\n",
    "    cfg = {}\n",
    "    # cfg['device'] = [i for i in range(len(args.device))]\n",
    "    cfg['model'] = xception_model\n",
    "    cfg['lr'] = 0.0001\n",
    "    cfg['backbone_lr'] = cfg['lr']\n",
    "    cfg['bs'] = 24\n",
    "    cfg['channel'] = 3\n",
    "    cfg['name'] = \"xception\"\n",
    "   \n",
    "    cfg['thres'] = [0.3]*28\n",
    "\n",
    "    get_predict_npy(cfg)\n",
    "    main(cfg)"
   ]
  },
  {
   "cell_type": "code",
   "execution_count": 15,
   "id": "4294f718-0793-41ec-9643-6c73f4cfc45f",
   "metadata": {},
   "outputs": [
    {
     "name": "stdout",
     "output_type": "stream",
     "text": [
      "Wed Dec 21 10:40:13 2022       \n",
      "+-----------------------------------------------------------------------------+\n",
      "| NVIDIA-SMI 525.60.11    Driver Version: 525.60.11    CUDA Version: 12.0     |\n",
      "|-------------------------------+----------------------+----------------------+\n",
      "| GPU  Name        Persistence-M| Bus-Id        Disp.A | Volatile Uncorr. ECC |\n",
      "| Fan  Temp  Perf  Pwr:Usage/Cap|         Memory-Usage | GPU-Util  Compute M. |\n",
      "|                               |                      |               MIG M. |\n",
      "|===============================+======================+======================|\n",
      "|   0  NVIDIA GeForce ...  Off  | 00000000:C1:00.0 Off |                  Off |\n",
      "|  0%   42C    P8    20W / 450W |   6374MiB / 24564MiB |      0%      Default |\n",
      "|                               |                      |                  N/A |\n",
      "+-------------------------------+----------------------+----------------------+\n",
      "                                                                               \n",
      "+-----------------------------------------------------------------------------+\n",
      "| Processes:                                                                  |\n",
      "|  GPU   GI   CI        PID   Type   Process name                  GPU Memory |\n",
      "|        ID   ID                                                   Usage      |\n",
      "|=============================================================================|\n",
      "+-----------------------------------------------------------------------------+\n"
     ]
    }
   ],
   "source": [
    "!nvidia-smi"
   ]
  },
  {
   "cell_type": "code",
   "execution_count": null,
   "id": "4628600c-67c1-414c-bbfb-9e0420f4b146",
   "metadata": {},
   "outputs": [],
   "source": []
  }
 ],
 "metadata": {
  "kernelspec": {
   "display_name": "Python 3 (ipykernel)",
   "language": "python",
   "name": "python3"
  },
  "language_info": {
   "codemirror_mode": {
    "name": "ipython",
    "version": 3
   },
   "file_extension": ".py",
   "mimetype": "text/x-python",
   "name": "python",
   "nbconvert_exporter": "python",
   "pygments_lexer": "ipython3",
   "version": "3.8.10"
  }
 },
 "nbformat": 4,
 "nbformat_minor": 5
}
